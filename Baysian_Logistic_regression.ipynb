{
 "cells": [
  {
   "cell_type": "markdown",
   "metadata": {},
   "source": [
    "# Bayesian logistic regression"
   ]
  },
  {
   "cell_type": "markdown",
   "metadata": {},
   "source": [
    "Prior인 p(w)의 분포가 아래와 같은 Normal 분포를 가지고 있다고 가정합니다. \n",
    "\n",
    "\n",
    "$$ p(W) = Normal(w, \\mu, \\Sigma)$$\n"
   ]
  },
  {
   "cell_type": "markdown",
   "metadata": {},
   "source": [
    "Likelihood 인  $p(y | X, W)$ 은 이항 분포를 가지고 있습니다."
   ]
  },
  {
   "cell_type": "markdown",
   "metadata": {},
   "source": [
    "$$p(y | X, W) = \\Pi^N_{i=1} \n",
    "(\\sigma(X_i^T \\cdot W))^{yi}\n",
    "(1-\\sigma(X_i^T \\cdot W))^{1-yi}\n",
    "$$"
   ]
  },
  {
   "cell_type": "markdown",
   "metadata": {},
   "source": [
    "prior 와 likelihood가 위와 같은 분포를 가질 때,  \n",
    "posterior 인 $p(W | D)$ 은 아래와 같이 정의 가능합니다. \n",
    "\n",
    "$$\n",
    "p(W | D) = \\frac{likehood * prior}{\\int likehood * prior} \n",
    "= \\frac{p(y | X, W)p(W)}{\\int p(y | X, W)p(W) dW}\n",
    "$$\n",
    "\n"
   ]
  },
  {
   "cell_type": "markdown",
   "metadata": {},
   "source": [
    "적분에 의해 w 항이 사리짐으로 위 수식은 아래와 같이 표현 가능합니다.   \n",
    "그리고 분모 term 은 상수로 취급 가능합니다.   \n",
    "\n",
    "\n",
    "\n",
    "$$ p(W | D) = \\frac{p(y | X, W)p(W)}{ p(y | X)} \\propto p(y | X, W)p(W)$$ \n",
    "\n"
   ]
  },
  {
   "cell_type": "markdown",
   "metadata": {},
   "source": [
    "## Laplace Approximation 을 활용한 Posterior 함수 근사\n",
    "\n",
    "`Laplace` 근사를 활용해 `Posterior` 함수를 다항함수로 근사화합니다. \n",
    "\n",
    "Posterior 함수에 로그를 적용합니다. \n",
    "\n",
    "$$ log(p(W | D)) \n",
    "= log(\\frac{p(y | X, W)p(W)}{ p(y | X)}) \n",
    "= log(p(y | X, W)) + log(p(W)) - log( p(y | X)) \n",
    "$$ \n",
    "\n"
   ]
  },
  {
   "cell_type": "markdown",
   "metadata": {},
   "source": [
    "위 수식을 미분시 상수값이 사라지기 때문에  \n",
    "수식을 간편하게 표현하기 위해 아래와 같이 수식을 정리할수 있습니다.  \n",
    "\n",
    "$$\\Psi(\\theta) = log(p(D | \\theta) + log(p(\\theta)) $$"
   ]
  },
  {
   "cell_type": "markdown",
   "metadata": {},
   "source": [
    "위 함수($\\Psi(\\theta)$)을 최대화 하는  $\\hat{\\theta}$ 을 구합니다.  \n",
    "\n",
    "위 함수($\\Psi(\\theta)$)를 최대화 하는 $\\hat{\\theta}$ 은 posterior $p(W | D)$를 최대화 합니다.\n",
    "\n",
    "posterior를 최대화 하는 parameter의 estimate을 MAP(Maximum a posteriori)라고 합니다.\n",
    "\n",
    "$$\\hat{\\theta} = argmax \\ \\Psi(\\theta)$$\n",
    "\n"
   ]
  },
  {
   "cell_type": "code",
   "execution_count": 1,
   "metadata": {},
   "outputs": [],
   "source": [
    "import numpy as np \n",
    "import matplotlib.pyplot as plt"
   ]
  },
  {
   "cell_type": "code",
   "execution_count": 2,
   "metadata": {},
   "outputs": [],
   "source": [
    "def gardient_descent(f, y, x, w):\n",
    "    lr = 0.0001\n",
    "    delta = 0.0000001\n",
    "\n",
    "    # gradient descent \n",
    "    derivate = (f(y, x, w + delta) - f(y, x, w)) / delta\n",
    "\n",
    "    # estimate new theta \n",
    "    return w + derivate * lr, derivate\n"
   ]
  },
  {
   "cell_type": "code",
   "execution_count": 3,
   "metadata": {},
   "outputs": [],
   "source": [
    "def get_prior(w, mu=0, std=1):\n",
    "    prior = 1 / (np.sqrt(2 * np.pi) * std) * np.exp(-0.5 * ((w - mu) / std) ** 2)\n",
    "    return prior"
   ]
  },
  {
   "cell_type": "code",
   "execution_count": 4,
   "metadata": {},
   "outputs": [],
   "source": [
    "def sigmoid(x):\n",
    "    return 1 / (1 + np.exp(-x))"
   ]
  },
  {
   "cell_type": "code",
   "execution_count": 5,
   "metadata": {},
   "outputs": [],
   "source": [
    "def get_loglikelihood(y, x, w):\n",
    "    \"\"\"\n",
    "    Args:\n",
    "        y, ndarray, shape 2d, (N, 1)\n",
    "        x, ndarray, shape 2d, (N, n_features)\n",
    "        w, ndarray, shape 2d, (n_features, 1)\n",
    "    \"\"\"\n",
    "    return np.sum(np.log((sigmoid(x @ w) ** y) * ((1 - sigmoid(x @ w)) ** (1 - y))))\n",
    "\n"
   ]
  },
  {
   "cell_type": "code",
   "execution_count": 9,
   "metadata": {},
   "outputs": [],
   "source": [
    "def psi(y, x, w):\n",
    "    return np.log(get_prior(w)) + get_loglikelihood(y, x, w)\n"
   ]
  },
  {
   "cell_type": "code",
   "execution_count": 10,
   "metadata": {},
   "outputs": [],
   "source": [
    "# test dataset\n",
    "np.random.seed(0)\n",
    "x = np.random.normal(0, 2, size=1000).reshape(-1, 1)\n",
    "noise = np.random.normal(0, 3, 1000).reshape(-1, 1)\n",
    "\n",
    "y = 3 * x + 2 + noise\n",
    "y = np.where(y > 0, 1, 0)\n",
    "y = y.reshape(-1, 1)\n",
    "\n",
    "init_w = np.random.normal(0, 1, 1).reshape(1, 1)"
   ]
  },
  {
   "cell_type": "code",
   "execution_count": 11,
   "metadata": {},
   "outputs": [],
   "source": [
    "ws = []\n",
    "drvs = []\n",
    "psi_values = []\n",
    "w = init_w\n",
    "xs = range(1000)\n",
    "\n",
    "for i in range(1000):\n",
    "    psi_value = psi(y, x, w)\n",
    "    w, drv = gardient_descent(psi, y, x, w)\n",
    "\n",
    "    ws.append(w.reshape(-1))\n",
    "    drvs.append(drv.reshape(-1))\n",
    "    psi_values.append(psi_value.reshape(-1))"
   ]
  },
  {
   "cell_type": "code",
   "execution_count": 17,
   "metadata": {},
   "outputs": [
    {
     "data": {
      "image/png": "[encoded data removed]",
      "text/plain": [
       "<Figure size 720x216 with 3 Axes>"
      ]
     },
     "metadata": {
      "needs_background": "light"
     },
     "output_type": "display_data"
    },
    {
     "data": {
      "text/plain": [
       "<Figure size 432x288 with 0 Axes>"
      ]
     },
     "metadata": {},
     "output_type": "display_data"
    }
   ],
   "source": [
    "fig, axes = plt.subplots(1 ,3)\n",
    "fig.set_size_inches((10, 3))\n",
    "axes = axes.ravel()\n",
    "\n",
    "axes[0].plot(xs, np.array(drvs)[:, 0].tolist())\n",
    "axes[0].set_title('derivates')\n",
    "axes[1].plot(xs, np.array(ws)[:, 0].tolist())\n",
    "axes[1].set_title('ws')\n",
    "axes[2].plot(xs, np.array(psi_values)[:, 0].tolist())\n",
    "axes[2].set_title('psi')\n",
    "\n",
    "plt.show()\n",
    "plt.tight_layout()"
   ]
  }
 ],
 "metadata": {
  "kernelspec": {
   "display_name": "Python 3",
   "language": "python",
   "name": "python3"
  },
  "language_info": {
   "codemirror_mode": {
    "name": "ipython",
    "version": 3
   },
   "file_extension": ".py",
   "mimetype": "text/x-python",
   "name": "python",
   "nbconvert_exporter": "python",
   "pygments_lexer": "ipython3",
   "version": "3.6.9"
  }
 },
 "nbformat": 4,
 "nbformat_minor": 2
}
